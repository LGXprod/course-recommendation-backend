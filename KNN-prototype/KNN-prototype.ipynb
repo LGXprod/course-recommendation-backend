{
 "cells": [
  {
   "cell_type": "code",
   "execution_count": 1,
   "metadata": {},
   "outputs": [],
   "source": [
    "import pandas as pd\n",
    "from scipy import spatial"
   ]
  },
  {
   "cell_type": "code",
   "execution_count": 2,
   "metadata": {},
   "outputs": [],
   "source": [
    "data = pd.read_csv('data.csv')"
   ]
  },
  {
   "cell_type": "code",
   "execution_count": 3,
   "metadata": {},
   "outputs": [],
   "source": [
    "data = data[['Subject Number', 'Subject Name', 'Group Assignments', 'Assignment Types', 'Keywords']]"
   ]
  },
  {
   "cell_type": "code",
   "execution_count": 4,
   "metadata": {},
   "outputs": [],
   "source": [
    "data = data.drop([22, 23, 24])"
   ]
  },
  {
   "cell_type": "code",
   "execution_count": 5,
   "metadata": {},
   "outputs": [],
   "source": [
    "data['Assignment Types'] = data['Assignment Types'].str.split(',')\n",
    "data['Keywords'] = data['Keywords'].str.split(',')"
   ]
  },
  {
   "cell_type": "code",
   "execution_count": 6,
   "metadata": {},
   "outputs": [],
   "source": [
    "assignmentset = set()\n",
    "for index, row in data.iterrows():\n",
    "    types = row['Assignment Types']\n",
    "    for assgntype in types:\n",
    "        if assgntype not in ['', ' ']:\n",
    "            assignmentset.add(assgntype.strip())\n",
    "\n",
    "assignmentset = list(assignmentset)"
   ]
  },
  {
   "cell_type": "code",
   "execution_count": 7,
   "metadata": {},
   "outputs": [],
   "source": [
    "keywordset = set()\n",
    "for index, row in data.iterrows():\n",
    "    keywords = row['Keywords']\n",
    "    for keyword in keywords:\n",
    "        if keyword not in ['', ' ']:\n",
    "            keywordset.add(keyword.strip())\n",
    "keywordset = list(keywordset)"
   ]
  },
  {
   "cell_type": "code",
   "execution_count": 8,
   "metadata": {},
   "outputs": [],
   "source": [
    "def onehot_encode(valueset, valuelist):\n",
    "    return [1 if value in valuelist else 0 for value in valueset]"
   ]
  },
  {
   "cell_type": "code",
   "execution_count": 9,
   "metadata": {},
   "outputs": [],
   "source": [
    "data['onehot_assignment'] = data['Assignment Types'].apply(lambda x: onehot_encode(assignmentset, x))\n",
    "data['onehot_keywords'] = data['Keywords'].apply(lambda x: onehot_encode(keywordset, x))"
   ]
  },
  {
   "cell_type": "code",
   "execution_count": 31,
   "metadata": {},
   "outputs": [],
   "source": [
    "def calc_similarityscore(subjid, datapoint):\n",
    "    \n",
    "    a = data.iloc[subjid]\n",
    "    datapoint['onehot_assignment'] = onehot_encode(assignmentset, datapoint['Assignment Types'])\n",
    "    datapoint['onehot_keywords'] = onehot_encode(keywordset, datapoint['Keywords'])\n",
    "    \n",
    "    ga = int(a['Group Assignments'])\n",
    "    gdataframe = int(datapoint['Group Assignments'])\n",
    "    \n",
    "    gscore = abs(ga - gdataframe)\n",
    "    ascore  = spatial.distance.cosine(a['onehot_assignment'], datapoint['onehot_assignment'])\n",
    "    kwscore  = spatial.distance.cosine(a['onehot_keywords'], datapoint['onehot_keywords'])\n",
    "    \n",
    "    return ((0.01)*(1-gscore) + (0.1)*(1-ascore) + (1-kwscore))/(1.11)"
   ]
  },
  {
   "cell_type": "code",
   "execution_count": 32,
   "metadata": {},
   "outputs": [],
   "source": [
    "def calc_similaritylist(datapoint):\n",
    "    \n",
    "    similarity_list = []\n",
    "    for index, row in data.iterrows():\n",
    "        similarity_list.append((index, calc_similarityscore(index, datapoint)))\n",
    "        \n",
    "    return sorted(similarity_list, reverse=True, key=lambda score: score[1])"
   ]
  },
  {
   "cell_type": "code",
   "execution_count": 33,
   "metadata": {},
   "outputs": [],
   "source": [
    "def K_nearest(similaritylist, k):\n",
    "    return [(data['Subject Name'][similaritylist[i][0]], round(similaritylist[i][1], 6)) for i in range(0, k)]"
   ]
  },
  {
   "cell_type": "code",
   "execution_count": 34,
   "metadata": {},
   "outputs": [
    {
     "data": {
      "text/plain": [
       "['Presentation',\n",
       " 'Report',\n",
       " 'Case Study',\n",
       " 'Literature Review',\n",
       " 'Exercises',\n",
       " 'Quiz/test',\n",
       " 'Laboratory/practical',\n",
       " 'Project',\n",
       " 'Portfolio',\n",
       " 'Essay',\n",
       " 'Examination']"
      ]
     },
     "execution_count": 165,
     "metadata": {},
     "output_type": "execute_result"
    }
   ],
   "source": [
    "assignmentset"
   ]
  },
  {
   "cell_type": "code",
   "execution_count": 35,
   "metadata": {},
   "outputs": [
    {
     "data": {
      "text/plain": [
       "['Biomedical Signals/Images',\n",
       " 'Human Rights',\n",
       " 'Arguments and Evidence',\n",
       " 'Signals',\n",
       " 'Embedded C',\n",
       " 'Joint Time-Frequency Analysis',\n",
       " 'DNA',\n",
       " 'Timber',\n",
       " 'Water Quality',\n",
       " 'Mobile Networks']"
      ]
     },
     "execution_count": 166,
     "metadata": {},
     "output_type": "execute_result"
    }
   ],
   "source": [
    "keywordset[:10]"
   ]
  },
  {
   "cell_type": "code",
   "execution_count": 173,
   "id": "cf9333e6",
   "metadata": {},
   "outputs": [],
   "source": [
    "datapoint = {'Group Assignments': 1, 'Assignment Types': ['Quiz/test', 'Project','Examination'], 'Keywords':['Embedded C', 'DNA', 'Mobile Networks', '5G', 'Biomedical Signals/Images']}"
   ]
  },
  {
   "cell_type": "code",
   "execution_count": 174,
   "id": "f0192065",
   "metadata": {},
   "outputs": [],
   "source": [
    "similaritylist = calc_similaritylist(datapoint)"
   ]
  },
  {
   "cell_type": "code",
   "execution_count": 175,
   "id": "3d8f903f",
   "metadata": {},
   "outputs": [
    {
     "data": {
      "text/plain": [
       "[('4G/5G Mobile Technologies', 0.463918),\n",
       " ('Biomedical Signal Processing', 0.262747),\n",
       " ('Bioinformatics', 0.240487),\n",
       " ('Advanced Robotics', 0.187296),\n",
       " ('Chemistry 1', 0.069069),\n",
       " ('Advanced Engineering Computing', 0.061023),\n",
       " ('Applications Programming', 0.06006),\n",
       " ('Airconditioning', 0.052014),\n",
       " ('Advanced Flow Modelling', 0.045788),\n",
       " ('Biomedical Instrumentation', 0.045788)]"
      ]
     },
     "execution_count": 175,
     "metadata": {},
     "output_type": "execute_result"
    }
   ],
   "source": [
    "K_nearest(similaritylist, 10)"
   ]
  },
  {
   "cell_type": "code",
   "execution_count": null,
   "metadata": {},
   "outputs": [],
   "source": []
  }
 ],
 "metadata": {
  "kernelspec": {
   "display_name": "Python 3",
   "language": "python",
   "name": "python3"
  },
  "language_info": {
   "codemirror_mode": {
    "name": "ipython",
    "version": 3
   },
   "file_extension": ".py",
   "mimetype": "text/x-python",
   "name": "python",
   "nbconvert_exporter": "python",
   "pygments_lexer": "ipython3",
   "version": "3.8.5"
  }
 },
 "nbformat": 4,
 "nbformat_minor": 5
}
