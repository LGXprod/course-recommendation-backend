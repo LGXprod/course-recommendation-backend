{
 "cells": [
  {
   "cell_type": "code",
   "execution_count": 1,
   "id": "6728b883",
   "metadata": {},
   "outputs": [],
   "source": [
    "import pandas as pd\n",
    "from scipy import spatial"
   ]
  },
  {
   "cell_type": "code",
   "execution_count": 2,
   "id": "ce975662",
   "metadata": {},
   "outputs": [],
   "source": [
    "data = pd.read_csv('data.csv')"
   ]
  },
  {
   "cell_type": "code",
   "execution_count": 3,
   "id": "0689463e",
   "metadata": {},
   "outputs": [],
   "source": [
    "data = data[['Subject Number', 'Subject Name', 'Group Assignments', 'Assignment Types', 'Keywords']]"
   ]
  },
  {
   "cell_type": "code",
   "execution_count": 4,
   "id": "f966440a",
   "metadata": {},
   "outputs": [],
   "source": [
    "data = data.drop([22, 23, 24])"
   ]
  },
  {
   "cell_type": "code",
   "execution_count": 5,
   "id": "34496a93",
   "metadata": {},
   "outputs": [],
   "source": [
    "data['Assignment Types'] = data['Assignment Types'].str.split(',')\n",
    "data['Keywords'] = data['Keywords'].str.split(',')"
   ]
  },
  {
   "cell_type": "code",
   "execution_count": 6,
   "id": "4fac4ca9",
   "metadata": {},
   "outputs": [],
   "source": [
    "assignmentset = set()\n",
    "for index, row in data.iterrows():\n",
    "    types = row['Assignment Types']\n",
    "    for assgntype in types:\n",
    "        if assgntype not in ['', ' ']:\n",
    "            assignmentset.add(assgntype.strip())\n",
    "\n",
    "assignmentset = list(assignmentset)"
   ]
  },
  {
   "cell_type": "code",
   "execution_count": 7,
   "id": "5b169eb4",
   "metadata": {},
   "outputs": [],
   "source": [
    "keywordset = set()\n",
    "for index, row in data.iterrows():\n",
    "    keywords = row['Keywords']\n",
    "    for keyword in keywords:\n",
    "        if keyword not in ['', ' ']:\n",
    "            keywordset.add(keyword.strip())\n",
    "keywordset = list(keywordset)"
   ]
  },
  {
   "cell_type": "code",
   "execution_count": 8,
   "id": "c329dec1",
   "metadata": {},
   "outputs": [],
   "source": [
    "def onehot_encode(valueset, valuelist):\n",
    "    return [1 if value in valuelist else 0 for value in valueset]"
   ]
  },
  {
   "cell_type": "code",
   "execution_count": 9,
   "id": "6d5c648d",
   "metadata": {},
   "outputs": [],
   "source": [
    "data['onehot_assignment'] = data['Assignment Types'].apply(lambda x: onehot_encode(assignmentset, x))\n",
    "data['onehot_keywords'] = data['Keywords'].apply(lambda x: onehot_encode(keywordset, x))"
   ]
  },
  {
   "cell_type": "code",
   "execution_count": 31,
   "id": "3ae6ed50",
   "metadata": {},
   "outputs": [],
   "source": [
    "def calc_similarityscore(subjid, datapoint):\n",
    "    \n",
    "    a = data.iloc[subjid]\n",
    "    datapoint['onehot_assignment'] = onehot_encode(assignmentset, datapoint['Assignment Types'])\n",
    "    datapoint['onehot_keywords'] = onehot_encode(keywordset, datapoint['Keywords'])\n",
    "    \n",
    "    ga = int(a['Group Assignments'])\n",
    "    gdataframe = int(datapoint['Group Assignments'])\n",
    "    \n",
    "    gscore = abs(ga - gdataframe)\n",
    "    ascore  = spatial.distance.cosine(a['onehot_assignment'], datapoint['onehot_assignment'])\n",
    "    kwscore  = spatial.distance.cosine(a['onehot_keywords'], datapoint['onehot_keywords'])\n",
    "    \n",
    "    return ((0.25)*(1-gscore) + (1-ascore) + 2*(1-kwscore))/(3.2)"
   ]
  },
  {
   "cell_type": "code",
   "execution_count": 32,
   "id": "b7e359b0",
   "metadata": {},
   "outputs": [],
   "source": [
    "def calc_similaritylist():\n",
    "    \n",
    "    similarity_list = []\n",
    "    for index, row in data.iterrows():\n",
    "        similarity_list.append((index, calc_similarityscore(index, datapoint)))\n",
    "        \n",
    "    return sorted(similarity_list, reverse=True, key=lambda score: score[1])"
   ]
  },
  {
   "cell_type": "code",
   "execution_count": 33,
   "id": "203a3bd6",
   "metadata": {},
   "outputs": [],
   "source": [
    "datapoint = {'Group Assignments': 0, 'Assignment Types': ['Quiz/test'], 'Keywords':['LTE', 'Prototyping']}"
   ]
  },
  {
   "cell_type": "code",
   "execution_count": 34,
   "id": "0861f416",
   "metadata": {},
   "outputs": [
    {
     "data": {
      "text/plain": [
       "[(0, 0.37722086912079605),\n",
       " (1, 0.29909586912079605),\n",
       " (2, 0.29909586912079605),\n",
       " (12, 0.25854695912175807),\n",
       " (21, 0.22097086912079608),\n",
       " (15, 0.18042195912175807),\n",
       " (20, 0.18042195912175807),\n",
       " (7, 0.078125),\n",
       " (8, 0.078125),\n",
       " (10, 0.078125),\n",
       " (13, 0.078125),\n",
       " (14, 0.078125),\n",
       " (18, 0.078125),\n",
       " (19, 0.078125),\n",
       " (3, 0.0),\n",
       " (4, 0.0),\n",
       " (5, 0.0),\n",
       " (6, 0.0),\n",
       " (9, 0.0),\n",
       " (11, 0.0),\n",
       " (16, 0.0),\n",
       " (17, 0.0)]"
      ]
     },
     "execution_count": 34,
     "metadata": {},
     "output_type": "execute_result"
    }
   ],
   "source": [
    "calc_similaritylist()"
   ]
  },
  {
   "cell_type": "code",
   "execution_count": 35,
   "id": "249db59b",
   "metadata": {},
   "outputs": [
    {
     "data": {
      "text/plain": [
       "Subject Number                                                 42890.0\n",
       "Subject Name                                 4G/5G Mobile Technologies\n",
       "Group Assignments                                                  1.0\n",
       "Assignment Types     [Quiz/test, Laboratory/practical, Examination,...\n",
       "Keywords             [LTE, 5G, 4G, Mobile Networks, Mobile Technolo...\n",
       "onehot_assignment                    [1, 0, 0, 0, 0, 1, 1, 0, 0, 0, 1]\n",
       "onehot_keywords      [0, 0, 0, 0, 0, 0, 0, 0, 0, 1, 0, 0, 0, 0, 0, ...\n",
       "Name: 0, dtype: object"
      ]
     },
     "execution_count": 35,
     "metadata": {},
     "output_type": "execute_result"
    }
   ],
   "source": [
    "data.iloc[0]"
   ]
  },
  {
   "cell_type": "code",
   "execution_count": null,
   "id": "cf18668a",
   "metadata": {},
   "outputs": [],
   "source": []
  }
 ],
 "metadata": {
  "kernelspec": {
   "display_name": "knn-moviereco",
   "language": "python",
   "name": "knn-moviereco"
  },
  "language_info": {
   "codemirror_mode": {
    "name": "ipython",
    "version": 3
   },
   "file_extension": ".py",
   "mimetype": "text/x-python",
   "name": "python",
   "nbconvert_exporter": "python",
   "pygments_lexer": "ipython3",
   "version": "3.9.3"
  }
 },
 "nbformat": 4,
 "nbformat_minor": 5
}
