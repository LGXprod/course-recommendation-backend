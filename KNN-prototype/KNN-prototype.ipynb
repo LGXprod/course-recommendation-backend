{
 "cells": [
  {
   "cell_type": "code",
   "execution_count": 1,
   "id": "af317afc",
   "metadata": {},
   "outputs": [],
   "source": [
    "import pandas as pd\n",
    "from scipy import spatial"
   ]
  },
  {
   "cell_type": "code",
   "execution_count": 2,
   "id": "079013d9",
   "metadata": {},
   "outputs": [],
   "source": [
    "data = pd.read_csv('data-final.csv')"
   ]
  },
  {
   "cell_type": "code",
   "execution_count": 3,
   "id": "5fdd8019",
   "metadata": {},
   "outputs": [],
   "source": [
    "data = data[['Subject Number', 'Subject Name', 'Group Assignments', 'Assignment Types', 'Keywords']]"
   ]
  },
  {
   "cell_type": "code",
   "execution_count": 4,
   "id": "45d1d537",
   "metadata": {},
   "outputs": [],
   "source": [
    "data = data.drop([22, 23, 24])"
   ]
  },
  {
   "cell_type": "code",
   "execution_count": 5,
   "id": "31df20c1",
   "metadata": {},
   "outputs": [],
   "source": [
    "data['Assignment Types'] = data['Assignment Types'].str.split(',')\n",
    "data['Keywords'] = data['Keywords'].str.split(',')"
   ]
  },
  {
   "cell_type": "code",
   "execution_count": 6,
   "id": "e402205a",
   "metadata": {},
   "outputs": [],
   "source": [
    "assignmentset = set()\n",
    "for index, row in data.iterrows():\n",
    "    types = row['Assignment Types']\n",
    "    for assgntype in types:\n",
    "        if assgntype not in ['', ' ']:\n",
    "            assignmentset.add(assgntype.strip())\n",
    "\n",
    "assignmentset = list(assignmentset)"
   ]
  },
  {
   "cell_type": "code",
   "execution_count": 7,
   "id": "b4cd0f94",
   "metadata": {},
   "outputs": [],
   "source": [
    "keywordset = set()\n",
    "for index, row in data.iterrows():\n",
    "    keywords = row['Keywords']\n",
    "    for keyword in keywords:\n",
    "        if keyword not in ['', ' ']:\n",
    "            keywordset.add(keyword.strip())\n",
    "keywordset = list(keywordset)"
   ]
  },
  {
   "cell_type": "code",
   "execution_count": 8,
   "id": "334836e3",
   "metadata": {},
   "outputs": [],
   "source": [
    "def onehot_encode(valueset, valuelist):\n",
    "    return [1 if value in valuelist else 0 for value in valueset]"
   ]
  },
  {
   "cell_type": "code",
   "execution_count": 9,
   "id": "b66f3bd1",
   "metadata": {},
   "outputs": [],
   "source": [
    "data['onehot_assignment'] = data['Assignment Types'].apply(lambda x: onehot_encode(assignmentset, x))\n",
    "data['onehot_keywords'] = data['Keywords'].apply(lambda x: onehot_encode(keywordset, x))"
   ]
  },
  {
   "cell_type": "code",
   "execution_count": 10,
   "id": "04f498c3",
   "metadata": {},
   "outputs": [],
   "source": [
    "import math\n",
    "def calc_similarityscore(subject, datapoint):\n",
    "    \n",
    "    ga = int(subject['Group Assignments'])\n",
    "    gdataframe = int(datapoint['Group Assignments'])\n",
    "    \n",
    "    gscore = abs(ga - gdataframe)\n",
    "    ascore  = spatial.distance.cosine(subject['onehot_assignment'], datapoint['onehot_assignment'])\n",
    "    kwscore  = spatial.distance.cosine(subject['onehot_keywords'], datapoint['onehot_keywords'])\n",
    "    \n",
    "    return ((0.01)*(1-gscore) + (0.1)*(1-ascore) + (1-kwscore))/(1.11)"
   ]
  },
  {
   "cell_type": "code",
   "execution_count": 11,
   "id": "47bda2bd",
   "metadata": {},
   "outputs": [],
   "source": [
    "def calc_similaritylist(datapoint):\n",
    "    \n",
    "    datapoint['onehot_assignment'] = onehot_encode(assignmentset, datapoint['Assignment Types'])\n",
    "    datapoint['onehot_keywords'] = onehot_encode(keywordset, datapoint['Keywords'])\n",
    "    \n",
    "    print(datapoint['Assignment Types'])\n",
    "    \n",
    "    similarity_list = []\n",
    "    for index, row in data.iterrows():\n",
    "        similarity_list.append((index, calc_similarityscore(row, datapoint)))\n",
    "        \n",
    "    return sorted(similarity_list, reverse=True, key=lambda score: score[1])"
   ]
  },
  {
   "cell_type": "code",
   "execution_count": 12,
   "id": "998506b5",
   "metadata": {},
   "outputs": [],
   "source": [
    "def K_nearest(similaritylist, k):\n",
    "    return [(data['Subject Name'][similaritylist[i][0]], round(similaritylist[i][1], 6)) for i in range(0, k)]"
   ]
  },
  {
   "cell_type": "code",
   "execution_count": 13,
   "id": "5a0ea71d",
   "metadata": {},
   "outputs": [
    {
     "data": {
      "text/plain": [
       "['Demonstration',\n",
       " 'Quiz/test',\n",
       " 'Project',\n",
       " 'Examination',\n",
       " 'Report',\n",
       " 'Case study',\n",
       " 'Journal',\n",
       " 'Mid-session examination',\n",
       " 'Portfolio',\n",
       " 'Presentation',\n",
       " 'Exercises',\n",
       " 'Literature review',\n",
       " 'Essay',\n",
       " 'Exam',\n",
       " 'Reflection',\n",
       " 'Design/drawing/plan/sketch',\n",
       " 'Laboratory/practical']"
      ]
     },
     "execution_count": 13,
     "metadata": {},
     "output_type": "execute_result"
    }
   ],
   "source": [
    "assignmentset"
   ]
  },
  {
   "cell_type": "code",
   "execution_count": 14,
   "id": "222672b7",
   "metadata": {},
   "outputs": [
    {
     "data": {
      "text/plain": [
       "['Bioengineering',\n",
       " 'Mechanical Systems',\n",
       " 'Engineering Design',\n",
       " 'Windows',\n",
       " 'Biomedical Devices',\n",
       " 'Beams',\n",
       " 'Risk Evaluation',\n",
       " 'Objected Orientated Paradigm',\n",
       " 'Contaminant Transport Processes',\n",
       " 'Slabs']"
      ]
     },
     "execution_count": 14,
     "metadata": {},
     "output_type": "execute_result"
    }
   ],
   "source": [
    "keywordset[:10]"
   ]
  },
  {
   "cell_type": "code",
   "execution_count": 15,
   "id": "cf9333e6",
   "metadata": {},
   "outputs": [],
   "source": [
    "datapoint = {'Group Assignments': 1, 'Assignment Types': ['Quiz/test', 'Examination'], 'Keywords':['Embedded C', 'DNA', 'Scrum','Biomedical Signals/Images', 'Travel Behaviour', 'Data Transformation', 'Linear Optimal Control', 'Aluminium Design', 'Cloud Processing', 'Mathematics', 'Frictional Devices', 'Sequential Circuits', 'Analog Controller Design', 'ad-hoc WLAN networks']}"
   ]
  },
  {
   "cell_type": "code",
   "execution_count": 16,
   "id": "f0192065",
   "metadata": {},
   "outputs": [
    {
     "name": "stdout",
     "output_type": "stream",
     "text": [
      "['Quiz/test']\n"
     ]
    }
   ],
   "source": [
    "similaritylist = calc_similaritylist(datapoint)"
   ]
  },
  {
   "cell_type": "code",
   "execution_count": 17,
   "id": "3d8f903f",
   "metadata": {},
   "outputs": [
    {
     "data": {
      "text/plain": [
       "[('4G/5G Mobile Technologies', 0.363562),\n",
       " ('Accelerating Your Prototyping and Commercialisation Strategies', 0.327526),\n",
       " ('Environmental Planning and Law', 0.099099),\n",
       " ('Dynamics and Control', 0.09009),\n",
       " ('Electronics and Circuits', 0.09009),\n",
       " ('Engineering Computations', 0.09009),\n",
       " ('Aboriginal Sydney Now', 0.072712),\n",
       " ('Fundamentals of Mechanical Engineering', 0.072712),\n",
       " ('Hydraulics and Hydrology', 0.072712),\n",
       " ('Introductory Digital Systems', 0.072712)]"
      ]
     },
     "execution_count": 17,
     "metadata": {},
     "output_type": "execute_result"
    }
   ],
   "source": [
    "K_nearest(similaritylist, 10)"
   ]
  },
  {
   "cell_type": "code",
   "execution_count": null,
   "id": "7628259a",
   "metadata": {},
   "outputs": [],
   "source": []
  },
  {
   "cell_type": "code",
   "execution_count": null,
   "id": "367dd7d9",
   "metadata": {},
   "outputs": [],
   "source": []
  }
 ],
 "metadata": {
  "kernelspec": {
   "display_name": "knn-moviereco",
   "language": "python",
   "name": "knn-moviereco"
  },
  "language_info": {
   "codemirror_mode": {
    "name": "ipython",
    "version": 3
   },
   "file_extension": ".py",
   "mimetype": "text/x-python",
   "name": "python",
   "nbconvert_exporter": "python",
   "pygments_lexer": "ipython3",
   "version": "3.9.4"
  }
 },
 "nbformat": 4,
 "nbformat_minor": 5
}
