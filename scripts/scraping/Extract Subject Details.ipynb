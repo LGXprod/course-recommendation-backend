{
 "cells": [
  {
   "cell_type": "markdown",
   "metadata": {},
   "source": [
    "# Attributes to Extract\n",
    "Bold = Completed\n",
    "- **Requisites and Anti-requisites**\n",
    "- **Credit points**\n",
    "- **Result type**\n",
    "- **Amount of groupwork**\n",
    "- **Type of assessments**\n",
    "- **Content (topics)**\n",
    "- **Description**"
   ]
  },
  {
   "cell_type": "code",
   "execution_count": 21,
   "metadata": {},
   "outputs": [],
   "source": [
    "import json"
   ]
  },
  {
   "cell_type": "code",
   "execution_count": 22,
   "metadata": {},
   "outputs": [],
   "source": [
    "def jsonToDict(filePath):\n",
    "    with open(filePath) as json_file: \n",
    "        return json.load(json_file)"
   ]
  },
  {
   "cell_type": "code",
   "execution_count": 23,
   "metadata": {},
   "outputs": [],
   "source": [
    "def saveAsJSON(filePath, data):\n",
    "    with open(filePath, 'w') as fp:\n",
    "        json.dump(data, fp, indent = 4)"
   ]
  },
  {
   "cell_type": "code",
   "execution_count": 24,
   "metadata": {},
   "outputs": [],
   "source": [
    "subjectData = jsonToDict(\"./data/deprecated/subjectPages.json\")"
   ]
  },
  {
   "cell_type": "code",
   "execution_count": 25,
   "metadata": {},
   "outputs": [],
   "source": [
    "subjectDetails = {}"
   ]
  },
  {
   "cell_type": "code",
   "execution_count": 26,
   "metadata": {},
   "outputs": [],
   "source": [
    "def hasNumbers(inputString):\n",
    "    return any(char.isdigit() for char in inputString)"
   ]
  },
  {
   "cell_type": "code",
   "execution_count": 27,
   "metadata": {},
   "outputs": [],
   "source": [
    "def strAfterTerminationStr(text, indexStart, terminationStr, splitStr=None):\n",
    "    textAfter = \"\"\n",
    "    charIndex = indexStart\n",
    "    textLength = len(text) - len(terminationStr)\n",
    "\n",
    "    while text[charIndex:charIndex+len(terminationStr)] != terminationStr and charIndex < textLength:\n",
    "        textAfter += text[charIndex]\n",
    "        charIndex += 1\n",
    "\n",
    "    if splitStr == None:\n",
    "        return textAfter.strip()\n",
    "    else:\n",
    "        subStrs = textAfter.strip().split(splitStr)\n",
    "\n",
    "        for i, subStr in enumerate(subStrs):\n",
    "            if not hasNumbers(subStr):\n",
    "                subStrs.remove(subStr)\n",
    "            else:\n",
    "                subStrs[i] = subStr.strip()\n",
    "\n",
    "        return subStrs"
   ]
  },
  {
   "cell_type": "code",
   "execution_count": 28,
   "metadata": {},
   "outputs": [],
   "source": [
    "def getTextAfterSubStr(text, subStr, numChars=None, terminationStr=None, splitStr=None):\n",
    "    indexStart = text.find(subStr)+len(subStr)\n",
    "    \n",
    "    if numChars != None:\n",
    "        return text[indexStart:indexStart+numChars].strip()\n",
    "    \n",
    "    if terminationStr != None:\n",
    "        return strAfterTerminationStr(text, indexStart, terminationStr, splitStr)"
   ]
  },
  {
   "cell_type": "code",
   "execution_count": 29,
   "metadata": {},
   "outputs": [],
   "source": [
    "def find_all(a_string, sub):\n",
    "    result = []\n",
    "    k = 0\n",
    "    \n",
    "    while k < len(a_string):\n",
    "        k = a_string.find(sub, k)\n",
    "        if k == -1:\n",
    "            return result\n",
    "        else:\n",
    "            result.append(k)\n",
    "            k += 1 #change to k += len(sub) to not search overlapping results\n",
    "            \n",
    "    return result"
   ]
  },
  {
   "cell_type": "code",
   "execution_count": 49,
   "metadata": {},
   "outputs": [],
   "source": [
    "for subjectCode in subjectData:\n",
    "    details = {}\n",
    "    subjectPage = subjectData[subjectCode]\n",
    "    \n",
    "    details[\"name\"] = getTextAfterSubStr(subjectPage, \"<h1>\", terminationStr=\"</h1>\")[5:].strip()\n",
    "    details[\"credit_points\"] = getTextAfterSubStr(subjectPage, \n",
    "                                                  \"<em>Credit points:</em>\", 2)\n",
    "    details[\"requisites\"] = getTextAfterSubStr(subjectPage, \"Requisite(s):\", \n",
    "                                               terminationStr=\"</em>\", \n",
    "                                               splitStr=\"AND\")\n",
    "    details[\"anti_requisites\"] = getTextAfterSubStr(subjectPage, \"Anti-requisite(s):\", \n",
    "                                                   terminationStr=\"</em>\", splitStr=\"AND\")\n",
    "    details[\"result_type\"] = getTextAfterSubStr(subjectPage, \"Result type</em>:\", \n",
    "                                                terminationStr=\"<br/>\")\n",
    "    details[\"description\"] = getTextAfterSubStr(subjectPage, \"<h3>Description</h3>\\n<p>\", \n",
    "                                                terminationStr=\"</p>\")\n",
    "    details[\"content_topics\"] = getTextAfterSubStr(subjectPage, '<h3>Content (topics)</h3>\\n<p>', \n",
    "                                                   terminationStr=\"</p>\")\n",
    "    details[\"num_group_assessments\"] = subjectPage.count(\"<td>Group\")\n",
    "\n",
    "    assessment_types = set([])\n",
    "    \n",
    "    for strPos in find_all(subjectPage, '<th class=\"assessmentTaskTableMainHeading\">Type:</th>'):\n",
    "        assessment_type = strAfterTerminationStr(subjectPage, \n",
    "                                                 strPos+len('<th class=\"assessmentTaskTableMainHeading\">Type:</th><td>'), \n",
    "                                                 \"</td>\")[1:]\n",
    "        \n",
    "        if assessment_type not in assessment_types:\n",
    "            assessment_types.add(assessment_type)\n",
    "    \n",
    "    details[\"assessment_types\"] = list(assessment_types)\n",
    "    \n",
    "    subjectDetails[subjectCode] = details"
   ]
  },
  {
   "cell_type": "code",
   "execution_count": 31,
   "metadata": {},
   "outputs": [],
   "source": [
    "for subjectCode in subjectDetails:\n",
    "    for requisite in subjectDetails[subjectCode][\"requisites\"]:\n",
    "        if requisite[0:4] == \"tent\" or requisite[0:len(\"><!-- Content Columns -->\")] == \"><!-- Content Columns -->\":\n",
    "            subjectDetails[subjectCode][\"requisites\"].remove(requisite)"
   ]
  },
  {
   "cell_type": "code",
   "execution_count": 32,
   "metadata": {},
   "outputs": [],
   "source": [
    "for subjectCode in subjectDetails:\n",
    "    for anti_requisite in subjectDetails[subjectCode][\"anti_requisites\"]:\n",
    "        if anti_requisite[0:4] == \"tent\" or anti_requisite[0:len(\"><!-- Content Columns -->\")] == \"><!-- Content Columns -->\":\n",
    "            subjectDetails[subjectCode][\"anti_requisites\"].remove(anti_requisite)"
   ]
  },
  {
   "cell_type": "code",
   "execution_count": 33,
   "metadata": {},
   "outputs": [
    {
     "data": {
      "text/plain": [
       "[]"
      ]
     },
     "execution_count": 33,
     "metadata": {},
     "output_type": "execute_result"
    }
   ],
   "source": [
    "subjectDetails[\"31250\"][\"requisites\"]"
   ]
  },
  {
   "cell_type": "code",
   "execution_count": 34,
   "metadata": {},
   "outputs": [
    {
     "data": {
      "text/plain": [
       "['<a href=\"https://handbook.uts.edu.au/subjects/33130.html\">33130</a> Mathematical Modelling 1',\n",
       " '<a href=\"https://handbook.uts.edu.au/subjects/48230.html\">48230</a> Engineering Communication']"
      ]
     },
     "execution_count": 34,
     "metadata": {},
     "output_type": "execute_result"
    }
   ],
   "source": [
    "subjectDetails[\"48240\"][\"requisites\"]"
   ]
  },
  {
   "cell_type": "code",
   "execution_count": 50,
   "metadata": {},
   "outputs": [
    {
     "data": {
      "text/plain": [
       "'Design and Innovation Fundamentals'"
      ]
     },
     "execution_count": 50,
     "metadata": {},
     "output_type": "execute_result"
    }
   ],
   "source": [
    "subjectDetails[\"48240\"][\"name\"]"
   ]
  },
  {
   "cell_type": "code",
   "execution_count": 51,
   "metadata": {},
   "outputs": [],
   "source": [
    "saveAsJSON(\"./data/majorsSubjectDetails.json\", subjectDetails)"
   ]
  },
  {
   "cell_type": "markdown",
   "metadata": {},
   "source": [
    "## Working out why the number of subjects wasn't matching depending on the JSON file I looked at"
   ]
  },
  {
   "cell_type": "code",
   "execution_count": 36,
   "metadata": {},
   "outputs": [],
   "source": [
    "subjectNames = jsonToDict(\"./data/subjectNames.json\")\n",
    "\n",
    "for subjectCode in subjectNames:\n",
    "    if subjectCode in subjectDetails:\n",
    "        subjectDetails[subjectCode][\"name\"] = subjectNames[subjectCode][\"name\"]"
   ]
  },
  {
   "cell_type": "code",
   "execution_count": 37,
   "metadata": {},
   "outputs": [
    {
     "name": "stdout",
     "output_type": "stream",
     "text": [
      "{'79011', '21591', '22017', '22576', '24223', '23021', '22567', '24207', '24224', '23022', '97802', '22016', '79013', '24205', '24101', '21506', '97803', '25500', '79018', '24104', '97807', '22240', '23570', '97804', '23507', '24211', '22574', '21595', '79015', '22575', '24999', '23569', '22573', '97640', '79032', '97801', '24212', '79606', '24306', '22566', '79603', '21999', '97806', '20100', '23005', '23999', '70110', '59333', '24510', '59330', '79036', '97808', '23504', '97805', '23418', '79033', '42050'}\n",
      "57\n"
     ]
    }
   ],
   "source": [
    "numNotFound = 0\n",
    "notFound = set([])\n",
    "\n",
    "for subjectCode in subjectDetails:\n",
    "    if \"name\" not in subjectDetails[subjectCode]:\n",
    "        notFound.add(subjectCode)\n",
    "        numNotFound += 1\n",
    "        \n",
    "print(notFound)\n",
    "print(numNotFound)"
   ]
  },
  {
   "cell_type": "code",
   "execution_count": 38,
   "metadata": {},
   "outputs": [
    {
     "data": {
      "text/plain": [
       "465"
      ]
     },
     "execution_count": 38,
     "metadata": {},
     "output_type": "execute_result"
    }
   ],
   "source": [
    "len(subjectDetails)"
   ]
  },
  {
   "cell_type": "code",
   "execution_count": 40,
   "metadata": {},
   "outputs": [
    {
     "data": {
      "text/plain": [
       "967"
      ]
     },
     "execution_count": 40,
     "metadata": {},
     "output_type": "execute_result"
    }
   ],
   "source": [
    "len(jsonToDict(\"./data/subjectNames.json\"))"
   ]
  },
  {
   "cell_type": "code",
   "execution_count": 41,
   "metadata": {},
   "outputs": [
    {
     "data": {
      "text/plain": [
       "465"
      ]
     },
     "execution_count": 41,
     "metadata": {},
     "output_type": "execute_result"
    }
   ],
   "source": [
    "len(subjectData)"
   ]
  },
  {
   "cell_type": "code",
   "execution_count": 42,
   "metadata": {},
   "outputs": [],
   "source": [
    "# degreeSubjects = jsonToDict(\"./data/degreeSubjects.json\")\n",
    "# subjectTypes = (\"core\", \"major\", \"sub-major\", \"stream\")\n",
    "# foundSubjects = set([])\n",
    "\n",
    "# for degreeCode in degreeSubjects:\n",
    "#     for subjectType in subjectTypes:\n",
    "#         if subjectType == \"core\":\n",
    "#             for subjectCode in degreeSubjects[degreeCode][\"subjects\"][subjectType]:\n",
    "#                     foundSubjects.add(subjectCode)\n",
    "#         else:\n",
    "#             for subjectCode in degreeSubjects[degreeCode][\"subjects\"][subjectType][\"core\"]:\n",
    "#                 foundSubjects.add(subjectCode)\n",
    "\n",
    "#             for subjectCode in degreeSubjects[degreeCode][\"subjects\"][subjectType][\"elective\"]:\n",
    "#                 foundSubjects.add(subjectCode)\n",
    "            \n",
    "# print(len(foundSubjects))"
   ]
  },
  {
   "cell_type": "markdown",
   "metadata": {},
   "source": [
    "## Further data cleaning and collation"
   ]
  },
  {
   "cell_type": "code",
   "execution_count": 44,
   "metadata": {},
   "outputs": [],
   "source": [
    "# degreeMajorSubject = jsonToDict(\"./data/degreeMajorSubject.json\")\n",
    "# majorData = jsonToDict(\"./data/deprecated/majorData.json\")\n",
    "# # print(degreeMajorSubject)\n",
    "\n",
    "# subjectTypes = (\"major\", \"sub-major\", \"stream\")\n",
    "# print(subjectTypes)\n",
    "\n",
    "# for degreeCode in degreeMajorSubject:\n",
    "#     for subjectType in subjectTypes:\n",
    "#         del degreeMajorSubject[degreeCode][\"subjects\"][subjectType]\n",
    "        \n",
    "#         pluralSubjectType = f\"{subjectType}s\"\n",
    "#         degreeMajorSubject[degreeCode][\"subjects\"][pluralSubjectType] = {}\n",
    "        \n",
    "# for majorCode in majorData:\n",
    "#     degreeCode = majorData[majorCode][\"degreeCode\"]\n",
    "    \n",
    "#     for subjectType in subjectTypes:\n",
    "#         pluralSubjectType = f\"{subjectType}s\"\n",
    "#         degreeMajorSubject[degreeCode][\"subjects\"][pluralSubjectType][majorCode] = majorData[majorCode] \n",
    "        \n",
    "# print(degreeMajorSubject)\n",
    "\n",
    "# saveAsJSON(\"./data/degreeMajorSubject.json\", degreeMajorSubject)"
   ]
  },
  {
   "cell_type": "code",
   "execution_count": null,
   "metadata": {},
   "outputs": [],
   "source": []
  }
 ],
 "metadata": {
  "kernelspec": {
   "display_name": "Python 3",
   "language": "python",
   "name": "python3"
  },
  "language_info": {
   "codemirror_mode": {
    "name": "ipython",
    "version": 3
   },
   "file_extension": ".py",
   "mimetype": "text/x-python",
   "name": "python",
   "nbconvert_exporter": "python",
   "pygments_lexer": "ipython3",
   "version": "3.8.5"
  }
 },
 "nbformat": 4,
 "nbformat_minor": 4
}
