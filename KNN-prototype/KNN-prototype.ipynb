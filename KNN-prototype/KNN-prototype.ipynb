{
 "cells": [
  {
   "cell_type": "code",
   "execution_count": 1,
   "id": "6956acd7",
   "metadata": {},
   "outputs": [],
   "source": [
    "import pandas as pd\n",
    "from scipy import spatial"
   ]
  },
  {
   "cell_type": "code",
   "execution_count": 2,
   "id": "0ce53bed",
   "metadata": {},
   "outputs": [],
   "source": [
    "data = pd.read_csv('data.csv')"
   ]
  },
  {
   "cell_type": "code",
   "execution_count": 3,
   "id": "8493de61",
   "metadata": {},
   "outputs": [],
   "source": [
    "data = data[['Subject Number', 'Subject Name', 'Group Assignments', 'Assignment Types', 'Keywords']]"
   ]
  },
  {
   "cell_type": "code",
   "execution_count": 4,
   "id": "77180c7b",
   "metadata": {},
   "outputs": [],
   "source": [
    "data = data.drop([22, 23, 24])"
   ]
  },
  {
   "cell_type": "code",
   "execution_count": 5,
   "id": "21125a98",
   "metadata": {},
   "outputs": [],
   "source": [
    "data['Assignment Types'] = data['Assignment Types'].str.split(',')\n",
    "data['Keywords'] = data['Keywords'].str.split(',')"
   ]
  },
  {
   "cell_type": "code",
   "execution_count": 6,
   "id": "6f91c8b9",
   "metadata": {},
   "outputs": [],
   "source": [
    "assignmentset = set()\n",
    "for index, row in data.iterrows():\n",
    "    types = row['Assignment Types']\n",
    "    for assgntype in types:\n",
    "        if assgntype not in ['', ' ']:\n",
    "            assignmentset.add(assgntype.strip())\n",
    "\n",
    "assignmentset = list(assignmentset)"
   ]
  },
  {
   "cell_type": "code",
   "execution_count": 7,
   "id": "3913fbf8",
   "metadata": {},
   "outputs": [],
   "source": [
    "keywordset = set()\n",
    "for index, row in data.iterrows():\n",
    "    keywords = row['Keywords']\n",
    "    for keyword in keywords:\n",
    "        if keyword not in ['', ' ']:\n",
    "            keywordset.add(keyword.strip())\n",
    "keywordset = list(keywordset)"
   ]
  },
  {
   "cell_type": "code",
   "execution_count": 8,
   "id": "0e437cae",
   "metadata": {},
   "outputs": [],
   "source": [
    "def onehot_encode(valueset, valuelist):\n",
    "    return [1 if value in valuelist else 0 for value in valueset]"
   ]
  },
  {
   "cell_type": "code",
   "execution_count": 9,
   "id": "83ee89f5",
   "metadata": {},
   "outputs": [],
   "source": [
    "data['onehot_assignment'] = data['Assignment Types'].apply(lambda x: onehot_encode(assignmentset, x))\n",
    "data['onehot_keywords'] = data['Keywords'].apply(lambda x: onehot_encode(keywordset, x))"
   ]
  },
  {
   "cell_type": "code",
   "execution_count": 10,
   "id": "885d8837",
   "metadata": {},
   "outputs": [],
   "source": [
    "def calc_similarityscore(subjid, datapoint):\n",
    "    \n",
    "    a = data.iloc[subjid]\n",
    "    datapoint['onehot_assignment'] = onehot_encode(assignmentset, datapoint['Assignment Types'])\n",
    "    datapoint['onehot_keywords'] = onehot_encode(keywordset, datapoint['Keywords'])\n",
    "    \n",
    "    ga = int(a['Group Assignments'])\n",
    "    gdataframe = int(datapoint['Group Assignments'])\n",
    "    \n",
    "    gscore = abs(ga - gdataframe)\n",
    "    ascore  = spatial.distance.cosine(a['onehot_assignment'], datapoint['onehot_assignment'])\n",
    "    kwscore  = spatial.distance.cosine(a['onehot_keywords'], datapoint['onehot_keywords'])\n",
    "    \n",
    "    return ((0.3)*(1-gscore) + (1-ascore) + (1-kwscore))/(2.3)"
   ]
  },
  {
   "cell_type": "code",
   "execution_count": 14,
   "id": "57b7d86a",
   "metadata": {},
   "outputs": [],
   "source": [
    "def calc_similaritylist():\n",
    "    \n",
    "    similarity_list = []\n",
    "    for index, row in data.iterrows():\n",
    "        similarity_list.append((index, calc_similarityscore(index, datapoint)))\n",
    "        \n",
    "    return sorted(similarity_list, reverse=True, key=lambda score: score[1])"
   ]
  },
  {
   "cell_type": "code",
   "execution_count": 15,
   "id": "3c134d2f",
   "metadata": {},
   "outputs": [],
   "source": [
    "datapoint = {'Group Assignments': 0, 'Assignment Types': ['Quiz/test'], 'Keywords':['LTE', 'Prototyping']}"
   ]
  },
  {
   "cell_type": "code",
   "execution_count": 16,
   "id": "287b9d2d",
   "metadata": {},
   "outputs": [
    {
     "data": {
      "text/plain": [
       "[(1, 0.4378725135593685),\n",
       " (12, 0.3814566387780982),\n",
       " (0, 0.37111016982316253),\n",
       " (21, 0.30743773095067284),\n",
       " (2, 0.2841536480840321),\n",
       " (15, 0.25102185616940254),\n",
       " (20, 0.25102185616940254),\n",
       " (7, 0.13043478260869565),\n",
       " (8, 0.13043478260869565),\n",
       " (10, 0.13043478260869565),\n",
       " (13, 0.13043478260869565),\n",
       " (14, 0.13043478260869565),\n",
       " (18, 0.13043478260869565),\n",
       " (19, 0.13043478260869565),\n",
       " (3, 0.0),\n",
       " (4, 0.0),\n",
       " (5, 0.0),\n",
       " (6, 0.0),\n",
       " (9, 0.0),\n",
       " (11, 0.0),\n",
       " (16, 0.0),\n",
       " (17, 0.0)]"
      ]
     },
     "execution_count": 16,
     "metadata": {},
     "output_type": "execute_result"
    }
   ],
   "source": [
    "calc_similaritylist()"
   ]
  },
  {
   "cell_type": "code",
   "execution_count": null,
   "id": "ad1c5ac7",
   "metadata": {},
   "outputs": [],
   "source": []
  }
 ],
 "metadata": {
  "kernelspec": {
   "display_name": "knn-moviereco",
   "language": "python",
   "name": "knn-moviereco"
  },
  "language_info": {
   "codemirror_mode": {
    "name": "ipython",
    "version": 3
   },
   "file_extension": ".py",
   "mimetype": "text/x-python",
   "name": "python",
   "nbconvert_exporter": "python",
   "pygments_lexer": "ipython3",
   "version": "3.9.3"
  }
 },
 "nbformat": 4,
 "nbformat_minor": 5
}
