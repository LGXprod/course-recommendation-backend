{
 "cells": [
  {
   "cell_type": "markdown",
   "metadata": {},
   "source": [
    "# Attributes to Extract\n",
    "Bold = Completed\n",
    "- **Requisites and Anti-requisites**\n",
    "- **Credit points**\n",
    "- **Result type**\n",
    "- **Amount of groupwork**\n",
    "- **Type of assessments**\n",
    "- **Content (topics)**\n",
    "- **Description**"
   ]
  },
  {
   "cell_type": "code",
   "execution_count": 1,
   "metadata": {},
   "outputs": [],
   "source": [
    "import json"
   ]
  },
  {
   "cell_type": "code",
   "execution_count": 2,
   "metadata": {},
   "outputs": [],
   "source": [
    "def jsonToDict(filePath):\n",
    "    with open(filePath) as json_file: \n",
    "        return json.load(json_file)"
   ]
  },
  {
   "cell_type": "code",
   "execution_count": 3,
   "metadata": {},
   "outputs": [],
   "source": [
    "def saveAsJSON(filePath, data):\n",
    "    with open(filePath, 'w') as fp:\n",
    "        json.dump(data, fp, indent = 4)"
   ]
  },
  {
   "cell_type": "code",
   "execution_count": 4,
   "metadata": {},
   "outputs": [],
   "source": [
    "subjectData = jsonToDict(\"./data/subjectPages.json\")"
   ]
  },
  {
   "cell_type": "code",
   "execution_count": 5,
   "metadata": {},
   "outputs": [],
   "source": [
    "subjectDetails = {}"
   ]
  },
  {
   "cell_type": "code",
   "execution_count": 6,
   "metadata": {},
   "outputs": [],
   "source": [
    "def hasNumbers(inputString):\n",
    "    return any(char.isdigit() for char in inputString)"
   ]
  },
  {
   "cell_type": "code",
   "execution_count": 7,
   "metadata": {},
   "outputs": [],
   "source": [
    "def strAfterTerminationStr(text, indexStart, terminationStr, splitStr=None):\n",
    "    textAfter = \"\"\n",
    "    charIndex = indexStart\n",
    "    textLength = len(text) - len(terminationStr)\n",
    "\n",
    "    while text[charIndex:charIndex+len(terminationStr)] != terminationStr and charIndex < textLength:\n",
    "        textAfter += text[charIndex]\n",
    "        charIndex += 1\n",
    "\n",
    "    if splitStr == None:\n",
    "        return textAfter.strip()\n",
    "    else:\n",
    "        subStrs = textAfter.strip().split(splitStr)\n",
    "\n",
    "        for i, subStr in enumerate(subStrs):\n",
    "            if not hasNumbers(subStr):\n",
    "                subStrs.remove(subStr)\n",
    "            else:\n",
    "                subStrs[i] = subStr.strip()\n",
    "\n",
    "        return subStrs"
   ]
  },
  {
   "cell_type": "code",
   "execution_count": 8,
   "metadata": {},
   "outputs": [],
   "source": [
    "def getTextAfterSubStr(text, subStr, numChars=None, terminationStr=None, splitStr=None):\n",
    "    indexStart = text.find(subStr)+len(subStr)\n",
    "    \n",
    "    if numChars != None:\n",
    "        return text[indexStart:indexStart+numChars].strip()\n",
    "    \n",
    "    if terminationStr != None:\n",
    "        return strAfterTerminationStr(text, indexStart, terminationStr, splitStr)"
   ]
  },
  {
   "cell_type": "code",
   "execution_count": 9,
   "metadata": {},
   "outputs": [],
   "source": [
    "def find_all(a_string, sub):\n",
    "    result = []\n",
    "    k = 0\n",
    "    \n",
    "    while k < len(a_string):\n",
    "        k = a_string.find(sub, k)\n",
    "        if k == -1:\n",
    "            return result\n",
    "        else:\n",
    "            result.append(k)\n",
    "            k += 1 #change to k += len(sub) to not search overlapping results\n",
    "            \n",
    "    return result"
   ]
  },
  {
   "cell_type": "code",
   "execution_count": 10,
   "metadata": {},
   "outputs": [],
   "source": [
    "for subjectCode in subjectData:\n",
    "    details = {}\n",
    "    subjectPage = subjectData[subjectCode]\n",
    "    \n",
    "    details[\"credit_points\"] = getTextAfterSubStr(subjectPage, \n",
    "                                                  \"<em>Credit points:</em>\", 2)\n",
    "    details[\"requisites\"] = getTextAfterSubStr(subjectPage, \"Requisite(s):\", \n",
    "                                               terminationStr=\"</em>\", \n",
    "                                               splitStr=\"AND\")\n",
    "    details[\"anti_requisites\"] = getTextAfterSubStr(subjectPage, \"Anti-requisite(s):\", \n",
    "                                                   terminationStr=\"</em>\", splitStr=\"AND\")\n",
    "    details[\"result_type\"] = getTextAfterSubStr(subjectPage, \"Result type</em>:\", \n",
    "                                                terminationStr=\"<br/>\")\n",
    "    details[\"description\"] = getTextAfterSubStr(subjectPage, \"<h3>Description</h3>\\n<p>\", \n",
    "                                                terminationStr=\"</p>\")\n",
    "    details[\"content_topics\"] = getTextAfterSubStr(subjectPage, '<h3>Content (topics)</h3>\\n<p>', \n",
    "                                                   terminationStr=\"</p>\")\n",
    "    details[\"num_group_assessments\"] = subjectPage.count(\"<td>Group\")\n",
    "\n",
    "    assessment_types = set([])\n",
    "    \n",
    "    for strPos in find_all(subjectPage, '<th class=\"assessmentTaskTableMainHeading\">Type:</th>'):\n",
    "        assessment_type = strAfterTerminationStr(subjectPage, \n",
    "                                                 strPos+len('<th class=\"assessmentTaskTableMainHeading\">Type:</th><td>'), \n",
    "                                                 \"</td>\")[1:]\n",
    "        \n",
    "        if assessment_type not in assessment_types:\n",
    "            assessment_types.add(assessment_type)\n",
    "    \n",
    "    details[\"assessment_types\"] = list(assessment_types)\n",
    "    \n",
    "    subjectDetails[subjectCode] = details"
   ]
  },
  {
   "cell_type": "code",
   "execution_count": 11,
   "metadata": {},
   "outputs": [],
   "source": [
    "for subjectCode in subjectDetails:\n",
    "    for requisite in subjectDetails[subjectCode][\"requisites\"]:\n",
    "        if requisite[0:4] == \"tent\" or requisite[0:len(\"><!-- Content Columns -->\")] == \"><!-- Content Columns -->\":\n",
    "            subjectDetails[subjectCode][\"requisites\"].remove(requisite)"
   ]
  },
  {
   "cell_type": "code",
   "execution_count": 12,
   "metadata": {},
   "outputs": [],
   "source": [
    "for subjectCode in subjectDetails:\n",
    "    for anti_requisite in subjectDetails[subjectCode][\"anti_requisites\"]:\n",
    "        if anti_requisite[0:4] == \"tent\" or anti_requisite[0:len(\"><!-- Content Columns -->\")] == \"><!-- Content Columns -->\":\n",
    "            subjectDetails[subjectCode][\"anti_requisites\"].remove(anti_requisite)"
   ]
  },
  {
   "cell_type": "code",
   "execution_count": 13,
   "metadata": {},
   "outputs": [
    {
     "data": {
      "text/plain": [
       "[]"
      ]
     },
     "execution_count": 13,
     "metadata": {},
     "output_type": "execute_result"
    }
   ],
   "source": [
    "subjectDetails[\"31250\"][\"requisites\"]"
   ]
  },
  {
   "cell_type": "code",
   "execution_count": 14,
   "metadata": {},
   "outputs": [
    {
     "data": {
      "text/plain": [
       "['<a href=\"https://handbook.uts.edu.au/subjects/33130.html\">33130</a> Mathematical Modelling 1',\n",
       " '<a href=\"https://handbook.uts.edu.au/subjects/48230.html\">48230</a> Engineering Communication']"
      ]
     },
     "execution_count": 14,
     "metadata": {},
     "output_type": "execute_result"
    }
   ],
   "source": [
    "subjectDetails[\"48240\"][\"requisites\"]"
   ]
  },
  {
   "cell_type": "code",
   "execution_count": 15,
   "metadata": {},
   "outputs": [],
   "source": [
    "saveAsJSON(\"./data/majorsSubjectDetails.json\", subjectDetails)"
   ]
  },
  {
   "cell_type": "markdown",
   "metadata": {},
   "source": [
    "## Working out why the number of subjects wasn't matching depending on the JSON file I looked at"
   ]
  },
  {
   "cell_type": "code",
   "execution_count": 16,
   "metadata": {},
   "outputs": [],
   "source": [
    "subjectNames = jsonToDict(\"./data/deprecated/subjectData.json\")\n",
    "\n",
    "for subjectCode in subjectNames:\n",
    "    if subjectCode in subjectDetails:\n",
    "        subjectDetails[subjectCode][\"name\"] = subjectNames[subjectCode][\"name\"]"
   ]
  },
  {
   "cell_type": "code",
   "execution_count": 17,
   "metadata": {},
   "outputs": [
    {
     "name": "stdout",
     "output_type": "stream",
     "text": [
      "{'23022', '24510', '79033', '24306', '79013', '23569', '23507', '24207', '79011', '59333', '24104', '23418', '21591', '97804', '21999', '59330', '79015', '23005', '97801', '25500', '23999', '22573', '97802', '24205', '97640', '22575', '20100', '97808', '97806', '22576', '22566', '79018', '97807', '70110', '97805', '23504', '79606', '79603', '24212', '24211', '24224', '24223', '23570', '42050', '97803', '79032', '24101', '22016', '24999', '79036', '22574', '21595', '22017', '22240', '21506', '22567', '23021'}\n",
      "57\n"
     ]
    }
   ],
   "source": [
    "numNotFound = 0\n",
    "notFound = set([])\n",
    "\n",
    "for subjectCode in subjectDetails:\n",
    "    if \"name\" not in subjectDetails[subjectCode]:\n",
    "        notFound.add(subjectCode)\n",
    "        numNotFound += 1\n",
    "        \n",
    "print(notFound)\n",
    "print(numNotFound)"
   ]
  },
  {
   "cell_type": "code",
   "execution_count": 18,
   "metadata": {},
   "outputs": [
    {
     "data": {
      "text/plain": [
       "465"
      ]
     },
     "execution_count": 18,
     "metadata": {},
     "output_type": "execute_result"
    }
   ],
   "source": [
    "len(subjectDetails)"
   ]
  },
  {
   "cell_type": "code",
   "execution_count": 19,
   "metadata": {},
   "outputs": [
    {
     "data": {
      "text/plain": [
       "967"
      ]
     },
     "execution_count": 19,
     "metadata": {},
     "output_type": "execute_result"
    }
   ],
   "source": [
    "len(jsonToDict(\"./data/deprecated/subjectData.json\"))"
   ]
  },
  {
   "cell_type": "code",
   "execution_count": 20,
   "metadata": {},
   "outputs": [
    {
     "data": {
      "text/plain": [
       "465"
      ]
     },
     "execution_count": 20,
     "metadata": {},
     "output_type": "execute_result"
    }
   ],
   "source": [
    "len(subjectData)"
   ]
  },
  {
   "cell_type": "code",
   "execution_count": 37,
   "metadata": {},
   "outputs": [],
   "source": [
    "# degreeSubjects = jsonToDict(\"./data/degreeSubjects.json\")\n",
    "# subjectTypes = (\"core\", \"major\", \"sub-major\", \"stream\")\n",
    "# foundSubjects = set([])\n",
    "\n",
    "# for degreeCode in degreeSubjects:\n",
    "#     for subjectType in subjectTypes:\n",
    "#         if subjectType == \"core\":\n",
    "#             for subjectCode in degreeSubjects[degreeCode][\"subjects\"][subjectType]:\n",
    "#                     foundSubjects.add(subjectCode)\n",
    "#         else:\n",
    "#             for subjectCode in degreeSubjects[degreeCode][\"subjects\"][subjectType][\"core\"]:\n",
    "#                 foundSubjects.add(subjectCode)\n",
    "\n",
    "#             for subjectCode in degreeSubjects[degreeCode][\"subjects\"][subjectType][\"elective\"]:\n",
    "#                 foundSubjects.add(subjectCode)\n",
    "            \n",
    "# print(len(foundSubjects))"
   ]
  },
  {
   "cell_type": "markdown",
   "metadata": {},
   "source": [
    "## Further data cleaning and collation"
   ]
  },
  {
   "cell_type": "code",
   "execution_count": 38,
   "metadata": {},
   "outputs": [
    {
     "name": "stdout",
     "output_type": "stream",
     "text": [
      "('major', 'sub-major', 'stream')\n"
     ]
    },
    {
     "ename": "KeyError",
     "evalue": "'subject'",
     "output_type": "error",
     "traceback": [
      "\u001b[1;31m---------------------------------------------------------------------------\u001b[0m",
      "\u001b[1;31mKeyError\u001b[0m                                  Traceback (most recent call last)",
      "\u001b[1;32m<ipython-input-38-6684b6e67207>\u001b[0m in \u001b[0;36m<module>\u001b[1;34m\u001b[0m\n\u001b[0;32m      9\u001b[0m     \u001b[1;32mfor\u001b[0m \u001b[0msubjectType\u001b[0m \u001b[1;32min\u001b[0m \u001b[0msubjectTypes\u001b[0m\u001b[1;33m:\u001b[0m\u001b[1;33m\u001b[0m\u001b[1;33m\u001b[0m\u001b[0m\n\u001b[0;32m     10\u001b[0m         \u001b[0mpluralSubjectTypes\u001b[0m \u001b[1;33m=\u001b[0m \u001b[1;34mf\"{subjectType}s\"\u001b[0m\u001b[1;33m\u001b[0m\u001b[1;33m\u001b[0m\u001b[0m\n\u001b[1;32m---> 11\u001b[1;33m         \u001b[0mprint\u001b[0m\u001b[1;33m(\u001b[0m\u001b[0mdegreeMajorSubject\u001b[0m\u001b[1;33m[\u001b[0m\u001b[0mdegreeCode\u001b[0m\u001b[1;33m]\u001b[0m\u001b[1;33m[\u001b[0m\u001b[1;34m\"subject\"\u001b[0m\u001b[1;33m]\u001b[0m\u001b[1;33m[\u001b[0m\u001b[0msubjectType\u001b[0m\u001b[1;33m]\u001b[0m\u001b[1;33m)\u001b[0m\u001b[1;33m\u001b[0m\u001b[1;33m\u001b[0m\u001b[0m\n\u001b[0m",
      "\u001b[1;31mKeyError\u001b[0m: 'subject'"
     ]
    }
   ],
   "source": [
    "degreeMajorSubject = jsonToDict(\"./data/degreeMajorSubject.json\")\n",
    "majorData = jsonToDict(\"./data/deprecated/majorData.json\")\n",
    "# print(degreeMajorSubject)\n",
    "\n",
    "subjectTypes = (\"major\", \"sub-major\", \"stream\")\n",
    "print(subjectTypes)\n",
    "\n",
    "for degreeCode in degreeMajorSubject:\n",
    "    for subjectType in subjectTypes:\n",
    "        pluralSubjectTypes = f\"{subjectType}s\"\n",
    "        print(degreeMajorSubject[degreeCode][\"subject\"][subjectType])"
   ]
  },
  {
   "cell_type": "code",
   "execution_count": null,
   "metadata": {},
   "outputs": [],
   "source": []
  }
 ],
 "metadata": {
  "kernelspec": {
   "display_name": "Python 3",
   "language": "python",
   "name": "python3"
  },
  "language_info": {
   "codemirror_mode": {
    "name": "ipython",
    "version": 3
   },
   "file_extension": ".py",
   "mimetype": "text/x-python",
   "name": "python",
   "nbconvert_exporter": "python",
   "pygments_lexer": "ipython3",
   "version": "3.8.5"
  }
 },
 "nbformat": 4,
 "nbformat_minor": 4
}
